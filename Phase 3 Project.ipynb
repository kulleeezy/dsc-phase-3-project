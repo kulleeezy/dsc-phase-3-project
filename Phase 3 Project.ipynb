{
 "cells": [
  {
   "cell_type": "markdown",
   "metadata": {},
   "source": [
    "Kulle Omer <p>\n",
    "Phase 3 Project <p>\n",
    "Self-Paced <p>"
   ]
  },
  {
   "cell_type": "markdown",
   "metadata": {},
   "source": [
    "### Obtain Data"
   ]
  },
  {
   "cell_type": "code",
   "execution_count": 1,
   "metadata": {},
   "outputs": [
    {
     "data": {
      "text/html": [
       "        <script type=\"text/javascript\">\n",
       "        window.PlotlyConfig = {MathJaxConfig: 'local'};\n",
       "        if (window.MathJax) {MathJax.Hub.Config({SVG: {font: \"STIX-Web\"}});}\n",
       "        if (typeof require !== 'undefined') {\n",
       "        require.undef(\"plotly\");\n",
       "        requirejs.config({\n",
       "            paths: {\n",
       "                'plotly': ['https://cdn.plot.ly/plotly-2.4.2.min']\n",
       "            }\n",
       "        });\n",
       "        require(['plotly'], function(Plotly) {\n",
       "            window._Plotly = Plotly;\n",
       "        });\n",
       "        }\n",
       "        </script>\n",
       "        "
      ]
     },
     "metadata": {},
     "output_type": "display_data"
    }
   ],
   "source": [
    "#importing all libraries\n",
    "import matplotlib.pyplot as plt\n",
    "import numpy as np\n",
    "import pandas as pd\n",
    "import seaborn as sns\n",
    "from scipy import stats\n",
    "from scipy.stats import norm, multivariate_normal\n",
    "import sklearn\n",
    "import warnings\n",
    "warnings.filterwarnings('ignore')\n",
    "import plotly\n",
    "import plotly.graph_objs as go\n",
    "import plotly.figure_factory as ff\n",
    "from plotly.offline import init_notebook_mode\n",
    "init_notebook_mode(connected=True)\n",
    "from imblearn.over_sampling import SMOTE\n",
    "from imblearn.pipeline import Pipeline\n",
    "from sklearn import tree\n",
    "from statsmodels.formula.api import ols\n",
    "import statsmodels.api as sm\n",
    "from sklearn.compose import ColumnTransformer\n",
    "from sklearn.ensemble import RandomForestClassifier\n",
    "from sklearn.model_selection import train_test_split, cross_val_score, GridSearchCV\n",
    "from sklearn.linear_model import LinearRegression, LogisticRegression\n",
    "from sklearn.pipeline import make_pipeline\n",
    "from sklearn.preprocessing import MinMaxScaler, LabelEncoder, StandardScaler, OneHotEncoder\n",
    "from sklearn.metrics import plot_confusion_matrix\n",
    "from sklearn.metrics import confusion_matrix, classification_report, accuracy_score\n",
    "from sklearn.neighbors import KNeighborsClassifier\n",
    "from sklearn.tree import DecisionTreeClassifier\n",
    "from sklearn.metrics import roc_curve, auc, confusion_matrix, accuracy_score, f1_score, precision_score, recall_score, roc_auc_score"
   ]
  },
  {
   "cell_type": "code",
   "execution_count": 2,
   "metadata": {},
   "outputs": [],
   "source": [
    "df = pd.read_csv(\"file:///Users/kulleomer/Downloads/bigml_59c28831336c6604c800002a.csv\")"
   ]
  },
  {
   "cell_type": "markdown",
   "metadata": {},
   "source": [
    "#### Data Cleaning "
   ]
  },
  {
   "cell_type": "code",
   "execution_count": 3,
   "metadata": {},
   "outputs": [
    {
     "name": "stdout",
     "output_type": "stream",
     "text": [
      "<class 'pandas.core.frame.DataFrame'>\n",
      "RangeIndex: 3333 entries, 0 to 3332\n",
      "Data columns (total 21 columns):\n",
      " #   Column                  Non-Null Count  Dtype  \n",
      "---  ------                  --------------  -----  \n",
      " 0   state                   3333 non-null   object \n",
      " 1   account length          3333 non-null   int64  \n",
      " 2   area code               3333 non-null   int64  \n",
      " 3   phone number            3333 non-null   object \n",
      " 4   international plan      3333 non-null   object \n",
      " 5   voice mail plan         3333 non-null   object \n",
      " 6   number vmail messages   3333 non-null   int64  \n",
      " 7   total day minutes       3333 non-null   float64\n",
      " 8   total day calls         3333 non-null   int64  \n",
      " 9   total day charge        3333 non-null   float64\n",
      " 10  total eve minutes       3333 non-null   float64\n",
      " 11  total eve calls         3333 non-null   int64  \n",
      " 12  total eve charge        3333 non-null   float64\n",
      " 13  total night minutes     3333 non-null   float64\n",
      " 14  total night calls       3333 non-null   int64  \n",
      " 15  total night charge      3333 non-null   float64\n",
      " 16  total intl minutes      3333 non-null   float64\n",
      " 17  total intl calls        3333 non-null   int64  \n",
      " 18  total intl charge       3333 non-null   float64\n",
      " 19  customer service calls  3333 non-null   int64  \n",
      " 20  churn                   3333 non-null   bool   \n",
      "dtypes: bool(1), float64(8), int64(8), object(4)\n",
      "memory usage: 524.2+ KB\n"
     ]
    }
   ],
   "source": [
    "df.info() #creating dataset"
   ]
  },
  {
   "cell_type": "code",
   "execution_count": 4,
   "metadata": {},
   "outputs": [
    {
     "data": {
      "text/html": [
       "<div>\n",
       "<style scoped>\n",
       "    .dataframe tbody tr th:only-of-type {\n",
       "        vertical-align: middle;\n",
       "    }\n",
       "\n",
       "    .dataframe tbody tr th {\n",
       "        vertical-align: top;\n",
       "    }\n",
       "\n",
       "    .dataframe thead th {\n",
       "        text-align: right;\n",
       "    }\n",
       "</style>\n",
       "<table border=\"1\" class=\"dataframe\">\n",
       "  <thead>\n",
       "    <tr style=\"text-align: right;\">\n",
       "      <th></th>\n",
       "      <th>state</th>\n",
       "      <th>account length</th>\n",
       "      <th>area code</th>\n",
       "      <th>phone number</th>\n",
       "      <th>international plan</th>\n",
       "      <th>voice mail plan</th>\n",
       "      <th>number vmail messages</th>\n",
       "      <th>total day minutes</th>\n",
       "      <th>total day calls</th>\n",
       "      <th>total day charge</th>\n",
       "      <th>...</th>\n",
       "      <th>total eve calls</th>\n",
       "      <th>total eve charge</th>\n",
       "      <th>total night minutes</th>\n",
       "      <th>total night calls</th>\n",
       "      <th>total night charge</th>\n",
       "      <th>total intl minutes</th>\n",
       "      <th>total intl calls</th>\n",
       "      <th>total intl charge</th>\n",
       "      <th>customer service calls</th>\n",
       "      <th>churn</th>\n",
       "    </tr>\n",
       "  </thead>\n",
       "  <tbody>\n",
       "    <tr>\n",
       "      <th>0</th>\n",
       "      <td>KS</td>\n",
       "      <td>128</td>\n",
       "      <td>415</td>\n",
       "      <td>382-4657</td>\n",
       "      <td>no</td>\n",
       "      <td>yes</td>\n",
       "      <td>25</td>\n",
       "      <td>265.1</td>\n",
       "      <td>110</td>\n",
       "      <td>45.07</td>\n",
       "      <td>...</td>\n",
       "      <td>99</td>\n",
       "      <td>16.78</td>\n",
       "      <td>244.7</td>\n",
       "      <td>91</td>\n",
       "      <td>11.01</td>\n",
       "      <td>10.0</td>\n",
       "      <td>3</td>\n",
       "      <td>2.70</td>\n",
       "      <td>1</td>\n",
       "      <td>False</td>\n",
       "    </tr>\n",
       "    <tr>\n",
       "      <th>1</th>\n",
       "      <td>OH</td>\n",
       "      <td>107</td>\n",
       "      <td>415</td>\n",
       "      <td>371-7191</td>\n",
       "      <td>no</td>\n",
       "      <td>yes</td>\n",
       "      <td>26</td>\n",
       "      <td>161.6</td>\n",
       "      <td>123</td>\n",
       "      <td>27.47</td>\n",
       "      <td>...</td>\n",
       "      <td>103</td>\n",
       "      <td>16.62</td>\n",
       "      <td>254.4</td>\n",
       "      <td>103</td>\n",
       "      <td>11.45</td>\n",
       "      <td>13.7</td>\n",
       "      <td>3</td>\n",
       "      <td>3.70</td>\n",
       "      <td>1</td>\n",
       "      <td>False</td>\n",
       "    </tr>\n",
       "    <tr>\n",
       "      <th>2</th>\n",
       "      <td>NJ</td>\n",
       "      <td>137</td>\n",
       "      <td>415</td>\n",
       "      <td>358-1921</td>\n",
       "      <td>no</td>\n",
       "      <td>no</td>\n",
       "      <td>0</td>\n",
       "      <td>243.4</td>\n",
       "      <td>114</td>\n",
       "      <td>41.38</td>\n",
       "      <td>...</td>\n",
       "      <td>110</td>\n",
       "      <td>10.30</td>\n",
       "      <td>162.6</td>\n",
       "      <td>104</td>\n",
       "      <td>7.32</td>\n",
       "      <td>12.2</td>\n",
       "      <td>5</td>\n",
       "      <td>3.29</td>\n",
       "      <td>0</td>\n",
       "      <td>False</td>\n",
       "    </tr>\n",
       "    <tr>\n",
       "      <th>3</th>\n",
       "      <td>OH</td>\n",
       "      <td>84</td>\n",
       "      <td>408</td>\n",
       "      <td>375-9999</td>\n",
       "      <td>yes</td>\n",
       "      <td>no</td>\n",
       "      <td>0</td>\n",
       "      <td>299.4</td>\n",
       "      <td>71</td>\n",
       "      <td>50.90</td>\n",
       "      <td>...</td>\n",
       "      <td>88</td>\n",
       "      <td>5.26</td>\n",
       "      <td>196.9</td>\n",
       "      <td>89</td>\n",
       "      <td>8.86</td>\n",
       "      <td>6.6</td>\n",
       "      <td>7</td>\n",
       "      <td>1.78</td>\n",
       "      <td>2</td>\n",
       "      <td>False</td>\n",
       "    </tr>\n",
       "    <tr>\n",
       "      <th>4</th>\n",
       "      <td>OK</td>\n",
       "      <td>75</td>\n",
       "      <td>415</td>\n",
       "      <td>330-6626</td>\n",
       "      <td>yes</td>\n",
       "      <td>no</td>\n",
       "      <td>0</td>\n",
       "      <td>166.7</td>\n",
       "      <td>113</td>\n",
       "      <td>28.34</td>\n",
       "      <td>...</td>\n",
       "      <td>122</td>\n",
       "      <td>12.61</td>\n",
       "      <td>186.9</td>\n",
       "      <td>121</td>\n",
       "      <td>8.41</td>\n",
       "      <td>10.1</td>\n",
       "      <td>3</td>\n",
       "      <td>2.73</td>\n",
       "      <td>3</td>\n",
       "      <td>False</td>\n",
       "    </tr>\n",
       "  </tbody>\n",
       "</table>\n",
       "<p>5 rows × 21 columns</p>\n",
       "</div>"
      ],
      "text/plain": [
       "  state  account length  area code phone number international plan  \\\n",
       "0    KS             128        415     382-4657                 no   \n",
       "1    OH             107        415     371-7191                 no   \n",
       "2    NJ             137        415     358-1921                 no   \n",
       "3    OH              84        408     375-9999                yes   \n",
       "4    OK              75        415     330-6626                yes   \n",
       "\n",
       "  voice mail plan  number vmail messages  total day minutes  total day calls  \\\n",
       "0             yes                     25              265.1              110   \n",
       "1             yes                     26              161.6              123   \n",
       "2              no                      0              243.4              114   \n",
       "3              no                      0              299.4               71   \n",
       "4              no                      0              166.7              113   \n",
       "\n",
       "   total day charge  ...  total eve calls  total eve charge  \\\n",
       "0             45.07  ...               99             16.78   \n",
       "1             27.47  ...              103             16.62   \n",
       "2             41.38  ...              110             10.30   \n",
       "3             50.90  ...               88              5.26   \n",
       "4             28.34  ...              122             12.61   \n",
       "\n",
       "   total night minutes  total night calls  total night charge  \\\n",
       "0                244.7                 91               11.01   \n",
       "1                254.4                103               11.45   \n",
       "2                162.6                104                7.32   \n",
       "3                196.9                 89                8.86   \n",
       "4                186.9                121                8.41   \n",
       "\n",
       "   total intl minutes  total intl calls  total intl charge  \\\n",
       "0                10.0                 3               2.70   \n",
       "1                13.7                 3               3.70   \n",
       "2                12.2                 5               3.29   \n",
       "3                 6.6                 7               1.78   \n",
       "4                10.1                 3               2.73   \n",
       "\n",
       "   customer service calls  churn  \n",
       "0                       1  False  \n",
       "1                       1  False  \n",
       "2                       0  False  \n",
       "3                       2  False  \n",
       "4                       3  False  \n",
       "\n",
       "[5 rows x 21 columns]"
      ]
     },
     "execution_count": 4,
     "metadata": {},
     "output_type": "execute_result"
    }
   ],
   "source": [
    "df.head() #taking a look at it"
   ]
  },
  {
   "cell_type": "code",
   "execution_count": 5,
   "metadata": {},
   "outputs": [
    {
     "data": {
      "text/plain": [
       "state                     0\n",
       "account length            0\n",
       "area code                 0\n",
       "phone number              0\n",
       "international plan        0\n",
       "voice mail plan           0\n",
       "number vmail messages     0\n",
       "total day minutes         0\n",
       "total day calls           0\n",
       "total day charge          0\n",
       "total eve minutes         0\n",
       "total eve calls           0\n",
       "total eve charge          0\n",
       "total night minutes       0\n",
       "total night calls         0\n",
       "total night charge        0\n",
       "total intl minutes        0\n",
       "total intl calls          0\n",
       "total intl charge         0\n",
       "customer service calls    0\n",
       "churn                     0\n",
       "dtype: int64"
      ]
     },
     "execution_count": 5,
     "metadata": {},
     "output_type": "execute_result"
    }
   ],
   "source": [
    "df.isna().sum() #looking for null values"
   ]
  },
  {
   "cell_type": "code",
   "execution_count": 6,
   "metadata": {},
   "outputs": [
    {
     "data": {
      "text/html": [
       "<div>\n",
       "<style scoped>\n",
       "    .dataframe tbody tr th:only-of-type {\n",
       "        vertical-align: middle;\n",
       "    }\n",
       "\n",
       "    .dataframe tbody tr th {\n",
       "        vertical-align: top;\n",
       "    }\n",
       "\n",
       "    .dataframe thead th {\n",
       "        text-align: right;\n",
       "    }\n",
       "</style>\n",
       "<table border=\"1\" class=\"dataframe\">\n",
       "  <thead>\n",
       "    <tr style=\"text-align: right;\">\n",
       "      <th></th>\n",
       "      <th>state</th>\n",
       "      <th>account length</th>\n",
       "      <th>area code</th>\n",
       "      <th>phone number</th>\n",
       "      <th>international plan</th>\n",
       "      <th>voice mail plan</th>\n",
       "      <th>number vmail messages</th>\n",
       "      <th>total day minutes</th>\n",
       "      <th>total day calls</th>\n",
       "      <th>total day charge</th>\n",
       "      <th>...</th>\n",
       "      <th>total eve calls</th>\n",
       "      <th>total eve charge</th>\n",
       "      <th>total night minutes</th>\n",
       "      <th>total night calls</th>\n",
       "      <th>total night charge</th>\n",
       "      <th>total intl minutes</th>\n",
       "      <th>total intl calls</th>\n",
       "      <th>total intl charge</th>\n",
       "      <th>customer service calls</th>\n",
       "      <th>churn</th>\n",
       "    </tr>\n",
       "  </thead>\n",
       "  <tbody>\n",
       "    <tr>\n",
       "      <th>0</th>\n",
       "      <td>KS</td>\n",
       "      <td>128</td>\n",
       "      <td>415</td>\n",
       "      <td>382-4657</td>\n",
       "      <td>no</td>\n",
       "      <td>yes</td>\n",
       "      <td>25</td>\n",
       "      <td>265.1</td>\n",
       "      <td>110</td>\n",
       "      <td>45.07</td>\n",
       "      <td>...</td>\n",
       "      <td>99</td>\n",
       "      <td>16.78</td>\n",
       "      <td>244.7</td>\n",
       "      <td>91</td>\n",
       "      <td>11.01</td>\n",
       "      <td>10.0</td>\n",
       "      <td>3</td>\n",
       "      <td>2.70</td>\n",
       "      <td>1</td>\n",
       "      <td>0</td>\n",
       "    </tr>\n",
       "    <tr>\n",
       "      <th>1</th>\n",
       "      <td>OH</td>\n",
       "      <td>107</td>\n",
       "      <td>415</td>\n",
       "      <td>371-7191</td>\n",
       "      <td>no</td>\n",
       "      <td>yes</td>\n",
       "      <td>26</td>\n",
       "      <td>161.6</td>\n",
       "      <td>123</td>\n",
       "      <td>27.47</td>\n",
       "      <td>...</td>\n",
       "      <td>103</td>\n",
       "      <td>16.62</td>\n",
       "      <td>254.4</td>\n",
       "      <td>103</td>\n",
       "      <td>11.45</td>\n",
       "      <td>13.7</td>\n",
       "      <td>3</td>\n",
       "      <td>3.70</td>\n",
       "      <td>1</td>\n",
       "      <td>0</td>\n",
       "    </tr>\n",
       "    <tr>\n",
       "      <th>2</th>\n",
       "      <td>NJ</td>\n",
       "      <td>137</td>\n",
       "      <td>415</td>\n",
       "      <td>358-1921</td>\n",
       "      <td>no</td>\n",
       "      <td>no</td>\n",
       "      <td>0</td>\n",
       "      <td>243.4</td>\n",
       "      <td>114</td>\n",
       "      <td>41.38</td>\n",
       "      <td>...</td>\n",
       "      <td>110</td>\n",
       "      <td>10.30</td>\n",
       "      <td>162.6</td>\n",
       "      <td>104</td>\n",
       "      <td>7.32</td>\n",
       "      <td>12.2</td>\n",
       "      <td>5</td>\n",
       "      <td>3.29</td>\n",
       "      <td>0</td>\n",
       "      <td>0</td>\n",
       "    </tr>\n",
       "    <tr>\n",
       "      <th>3</th>\n",
       "      <td>OH</td>\n",
       "      <td>84</td>\n",
       "      <td>408</td>\n",
       "      <td>375-9999</td>\n",
       "      <td>yes</td>\n",
       "      <td>no</td>\n",
       "      <td>0</td>\n",
       "      <td>299.4</td>\n",
       "      <td>71</td>\n",
       "      <td>50.90</td>\n",
       "      <td>...</td>\n",
       "      <td>88</td>\n",
       "      <td>5.26</td>\n",
       "      <td>196.9</td>\n",
       "      <td>89</td>\n",
       "      <td>8.86</td>\n",
       "      <td>6.6</td>\n",
       "      <td>7</td>\n",
       "      <td>1.78</td>\n",
       "      <td>2</td>\n",
       "      <td>0</td>\n",
       "    </tr>\n",
       "    <tr>\n",
       "      <th>4</th>\n",
       "      <td>OK</td>\n",
       "      <td>75</td>\n",
       "      <td>415</td>\n",
       "      <td>330-6626</td>\n",
       "      <td>yes</td>\n",
       "      <td>no</td>\n",
       "      <td>0</td>\n",
       "      <td>166.7</td>\n",
       "      <td>113</td>\n",
       "      <td>28.34</td>\n",
       "      <td>...</td>\n",
       "      <td>122</td>\n",
       "      <td>12.61</td>\n",
       "      <td>186.9</td>\n",
       "      <td>121</td>\n",
       "      <td>8.41</td>\n",
       "      <td>10.1</td>\n",
       "      <td>3</td>\n",
       "      <td>2.73</td>\n",
       "      <td>3</td>\n",
       "      <td>0</td>\n",
       "    </tr>\n",
       "  </tbody>\n",
       "</table>\n",
       "<p>5 rows × 21 columns</p>\n",
       "</div>"
      ],
      "text/plain": [
       "  state  account length  area code phone number international plan  \\\n",
       "0    KS             128        415     382-4657                 no   \n",
       "1    OH             107        415     371-7191                 no   \n",
       "2    NJ             137        415     358-1921                 no   \n",
       "3    OH              84        408     375-9999                yes   \n",
       "4    OK              75        415     330-6626                yes   \n",
       "\n",
       "  voice mail plan  number vmail messages  total day minutes  total day calls  \\\n",
       "0             yes                     25              265.1              110   \n",
       "1             yes                     26              161.6              123   \n",
       "2              no                      0              243.4              114   \n",
       "3              no                      0              299.4               71   \n",
       "4              no                      0              166.7              113   \n",
       "\n",
       "   total day charge  ...  total eve calls  total eve charge  \\\n",
       "0             45.07  ...               99             16.78   \n",
       "1             27.47  ...              103             16.62   \n",
       "2             41.38  ...              110             10.30   \n",
       "3             50.90  ...               88              5.26   \n",
       "4             28.34  ...              122             12.61   \n",
       "\n",
       "   total night minutes  total night calls  total night charge  \\\n",
       "0                244.7                 91               11.01   \n",
       "1                254.4                103               11.45   \n",
       "2                162.6                104                7.32   \n",
       "3                196.9                 89                8.86   \n",
       "4                186.9                121                8.41   \n",
       "\n",
       "   total intl minutes  total intl calls  total intl charge  \\\n",
       "0                10.0                 3               2.70   \n",
       "1                13.7                 3               3.70   \n",
       "2                12.2                 5               3.29   \n",
       "3                 6.6                 7               1.78   \n",
       "4                10.1                 3               2.73   \n",
       "\n",
       "   customer service calls  churn  \n",
       "0                       1      0  \n",
       "1                       1      0  \n",
       "2                       0      0  \n",
       "3                       2      0  \n",
       "4                       3      0  \n",
       "\n",
       "[5 rows x 21 columns]"
      ]
     },
     "execution_count": 6,
     "metadata": {},
     "output_type": "execute_result"
    }
   ],
   "source": [
    "df['churn'] = df['churn'].astype(int) #changing churn values to 0/1\n",
    "df.head()"
   ]
  },
  {
   "cell_type": "markdown",
   "metadata": {},
   "source": [
    "#### Exploratory Data"
   ]
  },
  {
   "cell_type": "code",
   "execution_count": 7,
   "metadata": {},
   "outputs": [
    {
     "data": {
      "text/plain": [
       "0    2850\n",
       "1     483\n",
       "Name: churn, dtype: int64"
      ]
     },
     "execution_count": 7,
     "metadata": {},
     "output_type": "execute_result"
    }
   ],
   "source": [
    "df['churn'].value_counts() #looking at churn values"
   ]
  },
  {
   "cell_type": "code",
   "execution_count": 8,
   "metadata": {},
   "outputs": [
    {
     "name": "stdout",
     "output_type": "stream",
     "text": [
      "0.14491449144914492\n"
     ]
    }
   ],
   "source": [
    "Percent_churn = 483/(2850+483)\n",
    "print(Percent_churn) #percentage of customers churning"
   ]
  },
  {
   "cell_type": "code",
   "execution_count": 9,
   "metadata": {
    "scrolled": false
   },
   "outputs": [
    {
     "data": {
      "text/plain": [
       "<matplotlib.axes._subplots.AxesSubplot at 0x1b209cc410>"
      ]
     },
     "execution_count": 9,
     "metadata": {},
     "output_type": "execute_result"
    },
    {
     "data": {
      "image/png": "[encoded data removed]",
      "text/plain": [
       "<Figure size 3600x2160 with 1 Axes>"
      ]
     },
     "metadata": {
      "needs_background": "light"
     },
     "output_type": "display_data"
    }
   ],
   "source": [
    "df.groupby([\"state\", \"churn\"]).size().unstack().plot(kind='bar', stacked=True, figsize=(50,30))"
   ]
  },
  {
   "cell_type": "code",
   "execution_count": 10,
   "metadata": {},
   "outputs": [
    {
     "data": {
      "text/plain": [
       "<matplotlib.axes._subplots.AxesSubplot at 0x1b2309cfd0>"
      ]
     },
     "execution_count": 10,
     "metadata": {},
     "output_type": "execute_result"
    },
    {
     "data": {
      "image/png": "[encoded data removed]",
      "text/plain": [
       "<Figure size 432x288 with 1 Axes>"
      ]
     },
     "metadata": {
      "needs_background": "light"
     },
     "output_type": "display_data"
    }
   ],
   "source": [
    "sns.countplot(y='customer service calls', hue='churn', data=df)"
   ]
  },
  {
   "cell_type": "code",
   "execution_count": 11,
   "metadata": {},
   "outputs": [
    {
     "name": "stdout",
     "output_type": "stream",
     "text": [
      "State with the minimum amount of calls:\n",
      "state\n",
      "CA    10431\n",
      "Name: all calls, dtype: int64\n",
      "State with the maximum amount of calls:\n",
      "state\n",
      "WV    32055\n",
      "Name: all calls, dtype: int64\n"
     ]
    },
    {
     "data": {
      "text/plain": [
       "<matplotlib.axes._subplots.AxesSubplot at 0x1b1f823650>"
      ]
     },
     "execution_count": 11,
     "metadata": {},
     "output_type": "execute_result"
    },
    {
     "data": {
      "image/png": "[encoded data removed]",
      "text/plain": [
       "<Figure size 1440x1080 with 1 Axes>"
      ]
     },
     "metadata": {
      "needs_background": "light"
     },
     "output_type": "display_data"
    }
   ],
   "source": [
    "df['all calls'] = df['total day calls'] + df['total eve calls'] + df['total night calls']\n",
    "state_calls = df.groupby('state')['all calls'].sum().sort_values()\n",
    "print('State with the minimum amount of calls:\\n', state_calls[state_calls == state_calls[0]], sep='')\n",
    "print('State with the maximum amount of calls:\\n', state_calls[state_calls == state_calls[-1]], sep='')\n",
    "plt.xlabel('Amount of calls')\n",
    "plt.ylabel('State')\n",
    "state_calls.plot(kind='barh', x='Amount of calls', y='State', figsize=(20, 15), colormap='ocean')"
   ]
  },
  {
   "cell_type": "code",
   "execution_count": 12,
   "metadata": {
    "scrolled": true
   },
   "outputs": [
    {
     "data": {
      "text/plain": [
       "<matplotlib.axes._subplots.AxesSubplot at 0x1b1f8f21d0>"
      ]
     },
     "execution_count": 12,
     "metadata": {},
     "output_type": "execute_result"
    },
    {
     "data": {
      "image/png": "[encoded data removed]",
      "text/plain": [
       "<Figure size 432x288 with 1 Axes>"
      ]
     },
     "metadata": {
      "needs_background": "light"
     },
     "output_type": "display_data"
    }
   ],
   "source": [
    "sns.countplot(x='customer service calls', hue='churn', data=df, color = 'black')"
   ]
  },
  {
   "cell_type": "code",
   "execution_count": 13,
   "metadata": {},
   "outputs": [
    {
     "data": {
      "text/plain": [
       "<matplotlib.axes._subplots.AxesSubplot at 0x1b1fd6fb10>"
      ]
     },
     "execution_count": 13,
     "metadata": {},
     "output_type": "execute_result"
    },
    {
     "data": {
      "image/png": "[encoded data removed]",
      "text/plain": [
       "<Figure size 432x288 with 1 Axes>"
      ]
     },
     "metadata": {
      "needs_background": "light"
     },
     "output_type": "display_data"
    }
   ],
   "source": [
    "sns.countplot(y='total intl calls', hue='international plan', data=df)"
   ]
  },
  {
   "cell_type": "markdown",
   "metadata": {},
   "source": [
    "#### Preparing for modeling"
   ]
  },
  {
   "cell_type": "code",
   "execution_count": 14,
   "metadata": {},
   "outputs": [
    {
     "data": {
      "image/png": "[encoded data removed]",
      "text/plain": [
       "<Figure size 1080x720 with 2 Axes>"
      ]
     },
     "metadata": {
      "needs_background": "light"
     },
     "output_type": "display_data"
    },
    {
     "data": {
      "text/html": [
       "<div>\n",
       "<style scoped>\n",
       "    .dataframe tbody tr th:only-of-type {\n",
       "        vertical-align: middle;\n",
       "    }\n",
       "\n",
       "    .dataframe tbody tr th {\n",
       "        vertical-align: top;\n",
       "    }\n",
       "\n",
       "    .dataframe thead th {\n",
       "        text-align: right;\n",
       "    }\n",
       "</style>\n",
       "<table border=\"1\" class=\"dataframe\">\n",
       "  <thead>\n",
       "    <tr style=\"text-align: right;\">\n",
       "      <th></th>\n",
       "      <th>account length</th>\n",
       "      <th>area code</th>\n",
       "      <th>number vmail messages</th>\n",
       "      <th>total day minutes</th>\n",
       "      <th>total day calls</th>\n",
       "      <th>total day charge</th>\n",
       "      <th>total eve minutes</th>\n",
       "      <th>total eve calls</th>\n",
       "      <th>total eve charge</th>\n",
       "      <th>total night minutes</th>\n",
       "      <th>total night calls</th>\n",
       "      <th>total night charge</th>\n",
       "      <th>total intl minutes</th>\n",
       "      <th>total intl calls</th>\n",
       "      <th>total intl charge</th>\n",
       "      <th>customer service calls</th>\n",
       "      <th>churn</th>\n",
       "      <th>all calls</th>\n",
       "    </tr>\n",
       "  </thead>\n",
       "  <tbody>\n",
       "    <tr>\n",
       "      <th>account length</th>\n",
       "      <td>1.000000</td>\n",
       "      <td>-0.012463</td>\n",
       "      <td>-0.004628</td>\n",
       "      <td>0.006216</td>\n",
       "      <td>0.038470</td>\n",
       "      <td>0.006214</td>\n",
       "      <td>-0.006757</td>\n",
       "      <td>0.019260</td>\n",
       "      <td>-0.006745</td>\n",
       "      <td>-0.008955</td>\n",
       "      <td>-0.013176</td>\n",
       "      <td>-0.008960</td>\n",
       "      <td>0.009514</td>\n",
       "      <td>0.020661</td>\n",
       "      <td>0.009546</td>\n",
       "      <td>-0.003796</td>\n",
       "      <td>0.016541</td>\n",
       "      <td>0.026157</td>\n",
       "    </tr>\n",
       "    <tr>\n",
       "      <th>area code</th>\n",
       "      <td>-0.012463</td>\n",
       "      <td>1.000000</td>\n",
       "      <td>-0.001994</td>\n",
       "      <td>-0.008264</td>\n",
       "      <td>-0.009646</td>\n",
       "      <td>-0.008264</td>\n",
       "      <td>0.003580</td>\n",
       "      <td>-0.011886</td>\n",
       "      <td>0.003607</td>\n",
       "      <td>-0.005825</td>\n",
       "      <td>0.016522</td>\n",
       "      <td>-0.005845</td>\n",
       "      <td>-0.018288</td>\n",
       "      <td>-0.024179</td>\n",
       "      <td>-0.018395</td>\n",
       "      <td>0.027572</td>\n",
       "      <td>0.006174</td>\n",
       "      <td>-0.003119</td>\n",
       "    </tr>\n",
       "    <tr>\n",
       "      <th>number vmail messages</th>\n",
       "      <td>-0.004628</td>\n",
       "      <td>-0.001994</td>\n",
       "      <td>1.000000</td>\n",
       "      <td>0.000778</td>\n",
       "      <td>-0.009548</td>\n",
       "      <td>0.000776</td>\n",
       "      <td>0.017562</td>\n",
       "      <td>-0.005864</td>\n",
       "      <td>0.017578</td>\n",
       "      <td>0.007681</td>\n",
       "      <td>0.007123</td>\n",
       "      <td>0.007663</td>\n",
       "      <td>0.002856</td>\n",
       "      <td>0.013957</td>\n",
       "      <td>0.002884</td>\n",
       "      <td>-0.013263</td>\n",
       "      <td>-0.089728</td>\n",
       "      <td>-0.004925</td>\n",
       "    </tr>\n",
       "    <tr>\n",
       "      <th>total day minutes</th>\n",
       "      <td>0.006216</td>\n",
       "      <td>-0.008264</td>\n",
       "      <td>0.000778</td>\n",
       "      <td>1.000000</td>\n",
       "      <td>0.006750</td>\n",
       "      <td>1.000000</td>\n",
       "      <td>0.007043</td>\n",
       "      <td>0.015769</td>\n",
       "      <td>0.007029</td>\n",
       "      <td>0.004323</td>\n",
       "      <td>0.022972</td>\n",
       "      <td>0.004300</td>\n",
       "      <td>-0.010155</td>\n",
       "      <td>0.008033</td>\n",
       "      <td>-0.010092</td>\n",
       "      <td>-0.013423</td>\n",
       "      <td>0.205151</td>\n",
       "      <td>0.026193</td>\n",
       "    </tr>\n",
       "    <tr>\n",
       "      <th>total day calls</th>\n",
       "      <td>0.038470</td>\n",
       "      <td>-0.009646</td>\n",
       "      <td>-0.009548</td>\n",
       "      <td>0.006750</td>\n",
       "      <td>1.000000</td>\n",
       "      <td>0.006753</td>\n",
       "      <td>-0.021451</td>\n",
       "      <td>0.006462</td>\n",
       "      <td>-0.021449</td>\n",
       "      <td>0.022938</td>\n",
       "      <td>-0.019557</td>\n",
       "      <td>0.022927</td>\n",
       "      <td>0.021565</td>\n",
       "      <td>0.004574</td>\n",
       "      <td>0.021666</td>\n",
       "      <td>-0.018942</td>\n",
       "      <td>0.018459</td>\n",
       "      <td>0.577225</td>\n",
       "    </tr>\n",
       "    <tr>\n",
       "      <th>total day charge</th>\n",
       "      <td>0.006214</td>\n",
       "      <td>-0.008264</td>\n",
       "      <td>0.000776</td>\n",
       "      <td>1.000000</td>\n",
       "      <td>0.006753</td>\n",
       "      <td>1.000000</td>\n",
       "      <td>0.007050</td>\n",
       "      <td>0.015769</td>\n",
       "      <td>0.007036</td>\n",
       "      <td>0.004324</td>\n",
       "      <td>0.022972</td>\n",
       "      <td>0.004301</td>\n",
       "      <td>-0.010157</td>\n",
       "      <td>0.008032</td>\n",
       "      <td>-0.010094</td>\n",
       "      <td>-0.013427</td>\n",
       "      <td>0.205151</td>\n",
       "      <td>0.026195</td>\n",
       "    </tr>\n",
       "    <tr>\n",
       "      <th>total eve minutes</th>\n",
       "      <td>-0.006757</td>\n",
       "      <td>0.003580</td>\n",
       "      <td>0.017562</td>\n",
       "      <td>0.007043</td>\n",
       "      <td>-0.021451</td>\n",
       "      <td>0.007050</td>\n",
       "      <td>1.000000</td>\n",
       "      <td>-0.011430</td>\n",
       "      <td>1.000000</td>\n",
       "      <td>-0.012584</td>\n",
       "      <td>0.007586</td>\n",
       "      <td>-0.012593</td>\n",
       "      <td>-0.011035</td>\n",
       "      <td>0.002541</td>\n",
       "      <td>-0.011067</td>\n",
       "      <td>-0.012985</td>\n",
       "      <td>0.092796</td>\n",
       "      <td>-0.014850</td>\n",
       "    </tr>\n",
       "    <tr>\n",
       "      <th>total eve calls</th>\n",
       "      <td>0.019260</td>\n",
       "      <td>-0.011886</td>\n",
       "      <td>-0.005864</td>\n",
       "      <td>0.015769</td>\n",
       "      <td>0.006462</td>\n",
       "      <td>0.015769</td>\n",
       "      <td>-0.011430</td>\n",
       "      <td>1.000000</td>\n",
       "      <td>-0.011423</td>\n",
       "      <td>-0.002093</td>\n",
       "      <td>0.007710</td>\n",
       "      <td>-0.002056</td>\n",
       "      <td>0.008703</td>\n",
       "      <td>0.017434</td>\n",
       "      <td>0.008674</td>\n",
       "      <td>0.002423</td>\n",
       "      <td>0.009233</td>\n",
       "      <td>0.588530</td>\n",
       "    </tr>\n",
       "    <tr>\n",
       "      <th>total eve charge</th>\n",
       "      <td>-0.006745</td>\n",
       "      <td>0.003607</td>\n",
       "      <td>0.017578</td>\n",
       "      <td>0.007029</td>\n",
       "      <td>-0.021449</td>\n",
       "      <td>0.007036</td>\n",
       "      <td>1.000000</td>\n",
       "      <td>-0.011423</td>\n",
       "      <td>1.000000</td>\n",
       "      <td>-0.012592</td>\n",
       "      <td>0.007596</td>\n",
       "      <td>-0.012601</td>\n",
       "      <td>-0.011043</td>\n",
       "      <td>0.002541</td>\n",
       "      <td>-0.011074</td>\n",
       "      <td>-0.012987</td>\n",
       "      <td>0.092786</td>\n",
       "      <td>-0.014839</td>\n",
       "    </tr>\n",
       "    <tr>\n",
       "      <th>total night minutes</th>\n",
       "      <td>-0.008955</td>\n",
       "      <td>-0.005825</td>\n",
       "      <td>0.007681</td>\n",
       "      <td>0.004323</td>\n",
       "      <td>0.022938</td>\n",
       "      <td>0.004324</td>\n",
       "      <td>-0.012584</td>\n",
       "      <td>-0.002093</td>\n",
       "      <td>-0.012592</td>\n",
       "      <td>1.000000</td>\n",
       "      <td>0.011204</td>\n",
       "      <td>0.999999</td>\n",
       "      <td>-0.015207</td>\n",
       "      <td>-0.012353</td>\n",
       "      <td>-0.015180</td>\n",
       "      <td>-0.009288</td>\n",
       "      <td>0.035493</td>\n",
       "      <td>0.018582</td>\n",
       "    </tr>\n",
       "    <tr>\n",
       "      <th>total night calls</th>\n",
       "      <td>-0.013176</td>\n",
       "      <td>0.016522</td>\n",
       "      <td>0.007123</td>\n",
       "      <td>0.022972</td>\n",
       "      <td>-0.019557</td>\n",
       "      <td>0.022972</td>\n",
       "      <td>0.007586</td>\n",
       "      <td>0.007710</td>\n",
       "      <td>0.007596</td>\n",
       "      <td>0.011204</td>\n",
       "      <td>1.000000</td>\n",
       "      <td>0.011188</td>\n",
       "      <td>-0.013605</td>\n",
       "      <td>0.000305</td>\n",
       "      <td>-0.013630</td>\n",
       "      <td>-0.012802</td>\n",
       "      <td>0.006141</td>\n",
       "      <td>0.563085</td>\n",
       "    </tr>\n",
       "    <tr>\n",
       "      <th>total night charge</th>\n",
       "      <td>-0.008960</td>\n",
       "      <td>-0.005845</td>\n",
       "      <td>0.007663</td>\n",
       "      <td>0.004300</td>\n",
       "      <td>0.022927</td>\n",
       "      <td>0.004301</td>\n",
       "      <td>-0.012593</td>\n",
       "      <td>-0.002056</td>\n",
       "      <td>-0.012601</td>\n",
       "      <td>0.999999</td>\n",
       "      <td>0.011188</td>\n",
       "      <td>1.000000</td>\n",
       "      <td>-0.015214</td>\n",
       "      <td>-0.012329</td>\n",
       "      <td>-0.015186</td>\n",
       "      <td>-0.009277</td>\n",
       "      <td>0.035496</td>\n",
       "      <td>0.018588</td>\n",
       "    </tr>\n",
       "    <tr>\n",
       "      <th>total intl minutes</th>\n",
       "      <td>0.009514</td>\n",
       "      <td>-0.018288</td>\n",
       "      <td>0.002856</td>\n",
       "      <td>-0.010155</td>\n",
       "      <td>0.021565</td>\n",
       "      <td>-0.010157</td>\n",
       "      <td>-0.011035</td>\n",
       "      <td>0.008703</td>\n",
       "      <td>-0.011043</td>\n",
       "      <td>-0.015207</td>\n",
       "      <td>-0.013605</td>\n",
       "      <td>-0.015214</td>\n",
       "      <td>1.000000</td>\n",
       "      <td>0.032304</td>\n",
       "      <td>0.999993</td>\n",
       "      <td>-0.009640</td>\n",
       "      <td>0.068239</td>\n",
       "      <td>0.009903</td>\n",
       "    </tr>\n",
       "    <tr>\n",
       "      <th>total intl calls</th>\n",
       "      <td>0.020661</td>\n",
       "      <td>-0.024179</td>\n",
       "      <td>0.013957</td>\n",
       "      <td>0.008033</td>\n",
       "      <td>0.004574</td>\n",
       "      <td>0.008032</td>\n",
       "      <td>0.002541</td>\n",
       "      <td>0.017434</td>\n",
       "      <td>0.002541</td>\n",
       "      <td>-0.012353</td>\n",
       "      <td>0.000305</td>\n",
       "      <td>-0.012329</td>\n",
       "      <td>0.032304</td>\n",
       "      <td>1.000000</td>\n",
       "      <td>0.032372</td>\n",
       "      <td>-0.017561</td>\n",
       "      <td>-0.052844</td>\n",
       "      <td>0.012966</td>\n",
       "    </tr>\n",
       "    <tr>\n",
       "      <th>total intl charge</th>\n",
       "      <td>0.009546</td>\n",
       "      <td>-0.018395</td>\n",
       "      <td>0.002884</td>\n",
       "      <td>-0.010092</td>\n",
       "      <td>0.021666</td>\n",
       "      <td>-0.010094</td>\n",
       "      <td>-0.011067</td>\n",
       "      <td>0.008674</td>\n",
       "      <td>-0.011074</td>\n",
       "      <td>-0.015180</td>\n",
       "      <td>-0.013630</td>\n",
       "      <td>-0.015186</td>\n",
       "      <td>0.999993</td>\n",
       "      <td>0.032372</td>\n",
       "      <td>1.000000</td>\n",
       "      <td>-0.009675</td>\n",
       "      <td>0.068259</td>\n",
       "      <td>0.009931</td>\n",
       "    </tr>\n",
       "    <tr>\n",
       "      <th>customer service calls</th>\n",
       "      <td>-0.003796</td>\n",
       "      <td>0.027572</td>\n",
       "      <td>-0.013263</td>\n",
       "      <td>-0.013423</td>\n",
       "      <td>-0.018942</td>\n",
       "      <td>-0.013427</td>\n",
       "      <td>-0.012985</td>\n",
       "      <td>0.002423</td>\n",
       "      <td>-0.012987</td>\n",
       "      <td>-0.009288</td>\n",
       "      <td>-0.012802</td>\n",
       "      <td>-0.009277</td>\n",
       "      <td>-0.009640</td>\n",
       "      <td>-0.017561</td>\n",
       "      <td>-0.009675</td>\n",
       "      <td>1.000000</td>\n",
       "      <td>0.208750</td>\n",
       "      <td>-0.016966</td>\n",
       "    </tr>\n",
       "    <tr>\n",
       "      <th>churn</th>\n",
       "      <td>0.016541</td>\n",
       "      <td>0.006174</td>\n",
       "      <td>-0.089728</td>\n",
       "      <td>0.205151</td>\n",
       "      <td>0.018459</td>\n",
       "      <td>0.205151</td>\n",
       "      <td>0.092796</td>\n",
       "      <td>0.009233</td>\n",
       "      <td>0.092786</td>\n",
       "      <td>0.035493</td>\n",
       "      <td>0.006141</td>\n",
       "      <td>0.035496</td>\n",
       "      <td>0.068239</td>\n",
       "      <td>-0.052844</td>\n",
       "      <td>0.068259</td>\n",
       "      <td>0.208750</td>\n",
       "      <td>1.000000</td>\n",
       "      <td>0.019651</td>\n",
       "    </tr>\n",
       "    <tr>\n",
       "      <th>all calls</th>\n",
       "      <td>0.026157</td>\n",
       "      <td>-0.003119</td>\n",
       "      <td>-0.004925</td>\n",
       "      <td>0.026193</td>\n",
       "      <td>0.577225</td>\n",
       "      <td>0.026195</td>\n",
       "      <td>-0.014850</td>\n",
       "      <td>0.588530</td>\n",
       "      <td>-0.014839</td>\n",
       "      <td>0.018582</td>\n",
       "      <td>0.563085</td>\n",
       "      <td>0.018588</td>\n",
       "      <td>0.009903</td>\n",
       "      <td>0.012966</td>\n",
       "      <td>0.009931</td>\n",
       "      <td>-0.016966</td>\n",
       "      <td>0.019651</td>\n",
       "      <td>1.000000</td>\n",
       "    </tr>\n",
       "  </tbody>\n",
       "</table>\n",
       "</div>"
      ],
      "text/plain": [
       "                        account length  area code  number vmail messages  \\\n",
       "account length                1.000000  -0.012463              -0.004628   \n",
       "area code                    -0.012463   1.000000              -0.001994   \n",
       "number vmail messages        -0.004628  -0.001994               1.000000   \n",
       "total day minutes             0.006216  -0.008264               0.000778   \n",
       "total day calls               0.038470  -0.009646              -0.009548   \n",
       "total day charge              0.006214  -0.008264               0.000776   \n",
       "total eve minutes            -0.006757   0.003580               0.017562   \n",
       "total eve calls               0.019260  -0.011886              -0.005864   \n",
       "total eve charge             -0.006745   0.003607               0.017578   \n",
       "total night minutes          -0.008955  -0.005825               0.007681   \n",
       "total night calls            -0.013176   0.016522               0.007123   \n",
       "total night charge           -0.008960  -0.005845               0.007663   \n",
       "total intl minutes            0.009514  -0.018288               0.002856   \n",
       "total intl calls              0.020661  -0.024179               0.013957   \n",
       "total intl charge             0.009546  -0.018395               0.002884   \n",
       "customer service calls       -0.003796   0.027572              -0.013263   \n",
       "churn                         0.016541   0.006174              -0.089728   \n",
       "all calls                     0.026157  -0.003119              -0.004925   \n",
       "\n",
       "                        total day minutes  total day calls  total day charge  \\\n",
       "account length                   0.006216         0.038470          0.006214   \n",
       "area code                       -0.008264        -0.009646         -0.008264   \n",
       "number vmail messages            0.000778        -0.009548          0.000776   \n",
       "total day minutes                1.000000         0.006750          1.000000   \n",
       "total day calls                  0.006750         1.000000          0.006753   \n",
       "total day charge                 1.000000         0.006753          1.000000   \n",
       "total eve minutes                0.007043        -0.021451          0.007050   \n",
       "total eve calls                  0.015769         0.006462          0.015769   \n",
       "total eve charge                 0.007029        -0.021449          0.007036   \n",
       "total night minutes              0.004323         0.022938          0.004324   \n",
       "total night calls                0.022972        -0.019557          0.022972   \n",
       "total night charge               0.004300         0.022927          0.004301   \n",
       "total intl minutes              -0.010155         0.021565         -0.010157   \n",
       "total intl calls                 0.008033         0.004574          0.008032   \n",
       "total intl charge               -0.010092         0.021666         -0.010094   \n",
       "customer service calls          -0.013423        -0.018942         -0.013427   \n",
       "churn                            0.205151         0.018459          0.205151   \n",
       "all calls                        0.026193         0.577225          0.026195   \n",
       "\n",
       "                        total eve minutes  total eve calls  total eve charge  \\\n",
       "account length                  -0.006757         0.019260         -0.006745   \n",
       "area code                        0.003580        -0.011886          0.003607   \n",
       "number vmail messages            0.017562        -0.005864          0.017578   \n",
       "total day minutes                0.007043         0.015769          0.007029   \n",
       "total day calls                 -0.021451         0.006462         -0.021449   \n",
       "total day charge                 0.007050         0.015769          0.007036   \n",
       "total eve minutes                1.000000        -0.011430          1.000000   \n",
       "total eve calls                 -0.011430         1.000000         -0.011423   \n",
       "total eve charge                 1.000000        -0.011423          1.000000   \n",
       "total night minutes             -0.012584        -0.002093         -0.012592   \n",
       "total night calls                0.007586         0.007710          0.007596   \n",
       "total night charge              -0.012593        -0.002056         -0.012601   \n",
       "total intl minutes              -0.011035         0.008703         -0.011043   \n",
       "total intl calls                 0.002541         0.017434          0.002541   \n",
       "total intl charge               -0.011067         0.008674         -0.011074   \n",
       "customer service calls          -0.012985         0.002423         -0.012987   \n",
       "churn                            0.092796         0.009233          0.092786   \n",
       "all calls                       -0.014850         0.588530         -0.014839   \n",
       "\n",
       "                        total night minutes  total night calls  \\\n",
       "account length                    -0.008955          -0.013176   \n",
       "area code                         -0.005825           0.016522   \n",
       "number vmail messages              0.007681           0.007123   \n",
       "total day minutes                  0.004323           0.022972   \n",
       "total day calls                    0.022938          -0.019557   \n",
       "total day charge                   0.004324           0.022972   \n",
       "total eve minutes                 -0.012584           0.007586   \n",
       "total eve calls                   -0.002093           0.007710   \n",
       "total eve charge                  -0.012592           0.007596   \n",
       "total night minutes                1.000000           0.011204   \n",
       "total night calls                  0.011204           1.000000   \n",
       "total night charge                 0.999999           0.011188   \n",
       "total intl minutes                -0.015207          -0.013605   \n",
       "total intl calls                  -0.012353           0.000305   \n",
       "total intl charge                 -0.015180          -0.013630   \n",
       "customer service calls            -0.009288          -0.012802   \n",
       "churn                              0.035493           0.006141   \n",
       "all calls                          0.018582           0.563085   \n",
       "\n",
       "                        total night charge  total intl minutes  \\\n",
       "account length                   -0.008960            0.009514   \n",
       "area code                        -0.005845           -0.018288   \n",
       "number vmail messages             0.007663            0.002856   \n",
       "total day minutes                 0.004300           -0.010155   \n",
       "total day calls                   0.022927            0.021565   \n",
       "total day charge                  0.004301           -0.010157   \n",
       "total eve minutes                -0.012593           -0.011035   \n",
       "total eve calls                  -0.002056            0.008703   \n",
       "total eve charge                 -0.012601           -0.011043   \n",
       "total night minutes               0.999999           -0.015207   \n",
       "total night calls                 0.011188           -0.013605   \n",
       "total night charge                1.000000           -0.015214   \n",
       "total intl minutes               -0.015214            1.000000   \n",
       "total intl calls                 -0.012329            0.032304   \n",
       "total intl charge                -0.015186            0.999993   \n",
       "customer service calls           -0.009277           -0.009640   \n",
       "churn                             0.035496            0.068239   \n",
       "all calls                         0.018588            0.009903   \n",
       "\n",
       "                        total intl calls  total intl charge  \\\n",
       "account length                  0.020661           0.009546   \n",
       "area code                      -0.024179          -0.018395   \n",
       "number vmail messages           0.013957           0.002884   \n",
       "total day minutes               0.008033          -0.010092   \n",
       "total day calls                 0.004574           0.021666   \n",
       "total day charge                0.008032          -0.010094   \n",
       "total eve minutes               0.002541          -0.011067   \n",
       "total eve calls                 0.017434           0.008674   \n",
       "total eve charge                0.002541          -0.011074   \n",
       "total night minutes            -0.012353          -0.015180   \n",
       "total night calls               0.000305          -0.013630   \n",
       "total night charge             -0.012329          -0.015186   \n",
       "total intl minutes              0.032304           0.999993   \n",
       "total intl calls                1.000000           0.032372   \n",
       "total intl charge               0.032372           1.000000   \n",
       "customer service calls         -0.017561          -0.009675   \n",
       "churn                          -0.052844           0.068259   \n",
       "all calls                       0.012966           0.009931   \n",
       "\n",
       "                        customer service calls     churn  all calls  \n",
       "account length                       -0.003796  0.016541   0.026157  \n",
       "area code                             0.027572  0.006174  -0.003119  \n",
       "number vmail messages                -0.013263 -0.089728  -0.004925  \n",
       "total day minutes                    -0.013423  0.205151   0.026193  \n",
       "total day calls                      -0.018942  0.018459   0.577225  \n",
       "total day charge                     -0.013427  0.205151   0.026195  \n",
       "total eve minutes                    -0.012985  0.092796  -0.014850  \n",
       "total eve calls                       0.002423  0.009233   0.588530  \n",
       "total eve charge                     -0.012987  0.092786  -0.014839  \n",
       "total night minutes                  -0.009288  0.035493   0.018582  \n",
       "total night calls                    -0.012802  0.006141   0.563085  \n",
       "total night charge                   -0.009277  0.035496   0.018588  \n",
       "total intl minutes                   -0.009640  0.068239   0.009903  \n",
       "total intl calls                     -0.017561 -0.052844   0.012966  \n",
       "total intl charge                    -0.009675  0.068259   0.009931  \n",
       "customer service calls                1.000000  0.208750  -0.016966  \n",
       "churn                                 0.208750  1.000000   0.019651  \n",
       "all calls                            -0.016966  0.019651   1.000000  "
      ]
     },
     "execution_count": 14,
     "metadata": {},
     "output_type": "execute_result"
    }
   ],
   "source": [
    "cor = df.corr()\n",
    "plt.figure(figsize=(15,10))\n",
    "sns.heatmap(cor.round(3),annot=True,cmap='coolwarm')\n",
    "plt.show()\n",
    "df.corr()\n",
    "#analyzing correlating values"
   ]
  },
  {
   "cell_type": "markdown",
   "metadata": {},
   "source": [
    "The features that have good correlation with churn are total day charge, customer service calls, total day charge/day plan. We will find out more using machine learning methods."
   ]
  },
  {
   "cell_type": "code",
   "execution_count": 15,
   "metadata": {},
   "outputs": [],
   "source": [
    "df = df.drop(['area code', 'state', 'phone number'], axis=1) \n",
    "#these features are causing noise \n",
    "#I don't think they are necessary so i will drop them"
   ]
  },
  {
   "cell_type": "code",
   "execution_count": 16,
   "metadata": {},
   "outputs": [
    {
     "data": {
      "text/html": [
       "<div>\n",
       "<style scoped>\n",
       "    .dataframe tbody tr th:only-of-type {\n",
       "        vertical-align: middle;\n",
       "    }\n",
       "\n",
       "    .dataframe tbody tr th {\n",
       "        vertical-align: top;\n",
       "    }\n",
       "\n",
       "    .dataframe thead th {\n",
       "        text-align: right;\n",
       "    }\n",
       "</style>\n",
       "<table border=\"1\" class=\"dataframe\">\n",
       "  <thead>\n",
       "    <tr style=\"text-align: right;\">\n",
       "      <th></th>\n",
       "      <th>account length</th>\n",
       "      <th>international plan</th>\n",
       "      <th>voice mail plan</th>\n",
       "      <th>number vmail messages</th>\n",
       "      <th>total day minutes</th>\n",
       "      <th>total day calls</th>\n",
       "      <th>total day charge</th>\n",
       "      <th>total eve minutes</th>\n",
       "      <th>total eve calls</th>\n",
       "      <th>total eve charge</th>\n",
       "      <th>total night minutes</th>\n",
       "      <th>total night calls</th>\n",
       "      <th>total night charge</th>\n",
       "      <th>total intl minutes</th>\n",
       "      <th>total intl calls</th>\n",
       "      <th>total intl charge</th>\n",
       "      <th>customer service calls</th>\n",
       "      <th>churn</th>\n",
       "      <th>all calls</th>\n",
       "    </tr>\n",
       "  </thead>\n",
       "  <tbody>\n",
       "    <tr>\n",
       "      <th>0</th>\n",
       "      <td>128</td>\n",
       "      <td>no</td>\n",
       "      <td>yes</td>\n",
       "      <td>25</td>\n",
       "      <td>265.1</td>\n",
       "      <td>110</td>\n",
       "      <td>45.07</td>\n",
       "      <td>197.4</td>\n",
       "      <td>99</td>\n",
       "      <td>16.78</td>\n",
       "      <td>244.7</td>\n",
       "      <td>91</td>\n",
       "      <td>11.01</td>\n",
       "      <td>10.0</td>\n",
       "      <td>3</td>\n",
       "      <td>2.70</td>\n",
       "      <td>1</td>\n",
       "      <td>0</td>\n",
       "      <td>300</td>\n",
       "    </tr>\n",
       "    <tr>\n",
       "      <th>1</th>\n",
       "      <td>107</td>\n",
       "      <td>no</td>\n",
       "      <td>yes</td>\n",
       "      <td>26</td>\n",
       "      <td>161.6</td>\n",
       "      <td>123</td>\n",
       "      <td>27.47</td>\n",
       "      <td>195.5</td>\n",
       "      <td>103</td>\n",
       "      <td>16.62</td>\n",
       "      <td>254.4</td>\n",
       "      <td>103</td>\n",
       "      <td>11.45</td>\n",
       "      <td>13.7</td>\n",
       "      <td>3</td>\n",
       "      <td>3.70</td>\n",
       "      <td>1</td>\n",
       "      <td>0</td>\n",
       "      <td>329</td>\n",
       "    </tr>\n",
       "    <tr>\n",
       "      <th>2</th>\n",
       "      <td>137</td>\n",
       "      <td>no</td>\n",
       "      <td>no</td>\n",
       "      <td>0</td>\n",
       "      <td>243.4</td>\n",
       "      <td>114</td>\n",
       "      <td>41.38</td>\n",
       "      <td>121.2</td>\n",
       "      <td>110</td>\n",
       "      <td>10.30</td>\n",
       "      <td>162.6</td>\n",
       "      <td>104</td>\n",
       "      <td>7.32</td>\n",
       "      <td>12.2</td>\n",
       "      <td>5</td>\n",
       "      <td>3.29</td>\n",
       "      <td>0</td>\n",
       "      <td>0</td>\n",
       "      <td>328</td>\n",
       "    </tr>\n",
       "    <tr>\n",
       "      <th>3</th>\n",
       "      <td>84</td>\n",
       "      <td>yes</td>\n",
       "      <td>no</td>\n",
       "      <td>0</td>\n",
       "      <td>299.4</td>\n",
       "      <td>71</td>\n",
       "      <td>50.90</td>\n",
       "      <td>61.9</td>\n",
       "      <td>88</td>\n",
       "      <td>5.26</td>\n",
       "      <td>196.9</td>\n",
       "      <td>89</td>\n",
       "      <td>8.86</td>\n",
       "      <td>6.6</td>\n",
       "      <td>7</td>\n",
       "      <td>1.78</td>\n",
       "      <td>2</td>\n",
       "      <td>0</td>\n",
       "      <td>248</td>\n",
       "    </tr>\n",
       "    <tr>\n",
       "      <th>4</th>\n",
       "      <td>75</td>\n",
       "      <td>yes</td>\n",
       "      <td>no</td>\n",
       "      <td>0</td>\n",
       "      <td>166.7</td>\n",
       "      <td>113</td>\n",
       "      <td>28.34</td>\n",
       "      <td>148.3</td>\n",
       "      <td>122</td>\n",
       "      <td>12.61</td>\n",
       "      <td>186.9</td>\n",
       "      <td>121</td>\n",
       "      <td>8.41</td>\n",
       "      <td>10.1</td>\n",
       "      <td>3</td>\n",
       "      <td>2.73</td>\n",
       "      <td>3</td>\n",
       "      <td>0</td>\n",
       "      <td>356</td>\n",
       "    </tr>\n",
       "  </tbody>\n",
       "</table>\n",
       "</div>"
      ],
      "text/plain": [
       "   account length international plan voice mail plan  number vmail messages  \\\n",
       "0             128                 no             yes                     25   \n",
       "1             107                 no             yes                     26   \n",
       "2             137                 no              no                      0   \n",
       "3              84                yes              no                      0   \n",
       "4              75                yes              no                      0   \n",
       "\n",
       "   total day minutes  total day calls  total day charge  total eve minutes  \\\n",
       "0              265.1              110             45.07              197.4   \n",
       "1              161.6              123             27.47              195.5   \n",
       "2              243.4              114             41.38              121.2   \n",
       "3              299.4               71             50.90               61.9   \n",
       "4              166.7              113             28.34              148.3   \n",
       "\n",
       "   total eve calls  total eve charge  total night minutes  total night calls  \\\n",
       "0               99             16.78                244.7                 91   \n",
       "1              103             16.62                254.4                103   \n",
       "2              110             10.30                162.6                104   \n",
       "3               88              5.26                196.9                 89   \n",
       "4              122             12.61                186.9                121   \n",
       "\n",
       "   total night charge  total intl minutes  total intl calls  \\\n",
       "0               11.01                10.0                 3   \n",
       "1               11.45                13.7                 3   \n",
       "2                7.32                12.2                 5   \n",
       "3                8.86                 6.6                 7   \n",
       "4                8.41                10.1                 3   \n",
       "\n",
       "   total intl charge  customer service calls  churn  all calls  \n",
       "0               2.70                       1      0        300  \n",
       "1               3.70                       1      0        329  \n",
       "2               3.29                       0      0        328  \n",
       "3               1.78                       2      0        248  \n",
       "4               2.73                       3      0        356  "
      ]
     },
     "execution_count": 16,
     "metadata": {},
     "output_type": "execute_result"
    }
   ],
   "source": [
    "df.head()"
   ]
  },
  {
   "cell_type": "code",
   "execution_count": 17,
   "metadata": {},
   "outputs": [
    {
     "name": "stdout",
     "output_type": "stream",
     "text": [
      "X shape:  (3333, 18)\n",
      "y shape:  (3333,)\n",
      "X_train shape:  (2666, 18)\n",
      "y_train shape:  (2666,)\n",
      "X_test shape:  (667, 18)\n",
      "y_test shape:  (667,)\n"
     ]
    }
   ],
   "source": [
    "#test/train split\n",
    "X = df.drop(columns=['churn'], axis=1) # features\n",
    "y = df['churn']  # target vector\n",
    "print(f'X shape:  {X.shape}')\n",
    "print(f'y shape:  {y.shape}')\n",
    "\n",
    "X_train, X_test, y_train, y_test = train_test_split(\n",
    "    X, y, train_size=0.8, stratify=y, random_state=87)\n",
    "\n",
    "print(f'X_train shape:  {X_train.shape}')\n",
    "print(f'y_train shape:  {y_train.shape}')\n",
    "\n",
    "print(f'X_test shape:  {X_test.shape}')\n",
    "print(f'y_test shape:  {y_test.shape}')"
   ]
  },
  {
   "cell_type": "code",
   "execution_count": 18,
   "metadata": {},
   "outputs": [],
   "source": [
    "ohe_division = X_train.iloc[:,:19] #using one hot encoder to each column"
   ]
  },
  {
   "cell_type": "code",
   "execution_count": 19,
   "metadata": {},
   "outputs": [],
   "source": [
    "X_train = ohe_division.apply(LabelEncoder().fit_transform) "
   ]
  },
  {
   "cell_type": "code",
   "execution_count": 20,
   "metadata": {},
   "outputs": [
    {
     "data": {
      "text/html": [
       "<div>\n",
       "<style scoped>\n",
       "    .dataframe tbody tr th:only-of-type {\n",
       "        vertical-align: middle;\n",
       "    }\n",
       "\n",
       "    .dataframe tbody tr th {\n",
       "        vertical-align: top;\n",
       "    }\n",
       "\n",
       "    .dataframe thead th {\n",
       "        text-align: right;\n",
       "    }\n",
       "</style>\n",
       "<table border=\"1\" class=\"dataframe\">\n",
       "  <thead>\n",
       "    <tr style=\"text-align: right;\">\n",
       "      <th></th>\n",
       "      <th>account length</th>\n",
       "      <th>international plan</th>\n",
       "      <th>voice mail plan</th>\n",
       "      <th>number vmail messages</th>\n",
       "      <th>total day minutes</th>\n",
       "      <th>total day calls</th>\n",
       "      <th>total day charge</th>\n",
       "      <th>total eve minutes</th>\n",
       "      <th>total eve calls</th>\n",
       "      <th>total eve charge</th>\n",
       "      <th>total night minutes</th>\n",
       "      <th>total night calls</th>\n",
       "      <th>total night charge</th>\n",
       "      <th>total intl minutes</th>\n",
       "      <th>total intl calls</th>\n",
       "      <th>total intl charge</th>\n",
       "      <th>customer service calls</th>\n",
       "      <th>all calls</th>\n",
       "    </tr>\n",
       "  </thead>\n",
       "  <tbody>\n",
       "    <tr>\n",
       "      <th>306</th>\n",
       "      <td>0.526570</td>\n",
       "      <td>0</td>\n",
       "      <td>0</td>\n",
       "      <td>0.000000</td>\n",
       "      <td>0.928523</td>\n",
       "      <td>0.608696</td>\n",
       "      <td>0.928523</td>\n",
       "      <td>0.863165</td>\n",
       "      <td>0.663717</td>\n",
       "      <td>0.854950</td>\n",
       "      <td>0.574216</td>\n",
       "      <td>0.534483</td>\n",
       "      <td>0.556933</td>\n",
       "      <td>0.389937</td>\n",
       "      <td>0.50</td>\n",
       "      <td>0.389937</td>\n",
       "      <td>0.111111</td>\n",
       "      <td>129</td>\n",
       "    </tr>\n",
       "    <tr>\n",
       "      <th>832</th>\n",
       "      <td>0.400966</td>\n",
       "      <td>0</td>\n",
       "      <td>0</td>\n",
       "      <td>0.000000</td>\n",
       "      <td>0.993257</td>\n",
       "      <td>0.565217</td>\n",
       "      <td>0.993257</td>\n",
       "      <td>0.512094</td>\n",
       "      <td>0.442478</td>\n",
       "      <td>0.511128</td>\n",
       "      <td>0.409756</td>\n",
       "      <td>0.732759</td>\n",
       "      <td>0.422773</td>\n",
       "      <td>0.446541</td>\n",
       "      <td>0.20</td>\n",
       "      <td>0.446541</td>\n",
       "      <td>0.222222</td>\n",
       "      <td>122</td>\n",
       "    </tr>\n",
       "    <tr>\n",
       "      <th>1355</th>\n",
       "      <td>0.222222</td>\n",
       "      <td>0</td>\n",
       "      <td>1</td>\n",
       "      <td>0.568182</td>\n",
       "      <td>0.982468</td>\n",
       "      <td>0.452174</td>\n",
       "      <td>0.982468</td>\n",
       "      <td>0.721493</td>\n",
       "      <td>0.672566</td>\n",
       "      <td>0.713738</td>\n",
       "      <td>0.455749</td>\n",
       "      <td>0.517241</td>\n",
       "      <td>0.461105</td>\n",
       "      <td>0.710692</td>\n",
       "      <td>0.70</td>\n",
       "      <td>0.710692</td>\n",
       "      <td>0.333333</td>\n",
       "      <td>110</td>\n",
       "    </tr>\n",
       "    <tr>\n",
       "      <th>1600</th>\n",
       "      <td>0.536232</td>\n",
       "      <td>0</td>\n",
       "      <td>1</td>\n",
       "      <td>0.454545</td>\n",
       "      <td>0.364127</td>\n",
       "      <td>0.600000</td>\n",
       "      <td>0.364127</td>\n",
       "      <td>0.669661</td>\n",
       "      <td>0.796460</td>\n",
       "      <td>0.663853</td>\n",
       "      <td>0.833449</td>\n",
       "      <td>0.491379</td>\n",
       "      <td>0.792559</td>\n",
       "      <td>0.138365</td>\n",
       "      <td>0.20</td>\n",
       "      <td>0.138365</td>\n",
       "      <td>0.000000</td>\n",
       "      <td>138</td>\n",
       "    </tr>\n",
       "    <tr>\n",
       "      <th>726</th>\n",
       "      <td>0.376812</td>\n",
       "      <td>0</td>\n",
       "      <td>0</td>\n",
       "      <td>0.000000</td>\n",
       "      <td>0.300742</td>\n",
       "      <td>0.652174</td>\n",
       "      <td>0.300742</td>\n",
       "      <td>0.314444</td>\n",
       "      <td>0.495575</td>\n",
       "      <td>0.320798</td>\n",
       "      <td>0.933101</td>\n",
       "      <td>0.448276</td>\n",
       "      <td>0.904171</td>\n",
       "      <td>0.345912</td>\n",
       "      <td>0.25</td>\n",
       "      <td>0.345912</td>\n",
       "      <td>0.111111</td>\n",
       "      <td>105</td>\n",
       "    </tr>\n",
       "  </tbody>\n",
       "</table>\n",
       "</div>"
      ],
      "text/plain": [
       "      account length  international plan  voice mail plan  \\\n",
       "306         0.526570                   0                0   \n",
       "832         0.400966                   0                0   \n",
       "1355        0.222222                   0                1   \n",
       "1600        0.536232                   0                1   \n",
       "726         0.376812                   0                0   \n",
       "\n",
       "      number vmail messages  total day minutes  total day calls  \\\n",
       "306                0.000000           0.928523         0.608696   \n",
       "832                0.000000           0.993257         0.565217   \n",
       "1355               0.568182           0.982468         0.452174   \n",
       "1600               0.454545           0.364127         0.600000   \n",
       "726                0.000000           0.300742         0.652174   \n",
       "\n",
       "      total day charge  total eve minutes  total eve calls  total eve charge  \\\n",
       "306           0.928523           0.863165         0.663717          0.854950   \n",
       "832           0.993257           0.512094         0.442478          0.511128   \n",
       "1355          0.982468           0.721493         0.672566          0.713738   \n",
       "1600          0.364127           0.669661         0.796460          0.663853   \n",
       "726           0.300742           0.314444         0.495575          0.320798   \n",
       "\n",
       "      total night minutes  total night calls  total night charge  \\\n",
       "306              0.574216           0.534483            0.556933   \n",
       "832              0.409756           0.732759            0.422773   \n",
       "1355             0.455749           0.517241            0.461105   \n",
       "1600             0.833449           0.491379            0.792559   \n",
       "726              0.933101           0.448276            0.904171   \n",
       "\n",
       "      total intl minutes  total intl calls  total intl charge  \\\n",
       "306             0.389937              0.50           0.389937   \n",
       "832             0.446541              0.20           0.446541   \n",
       "1355            0.710692              0.70           0.710692   \n",
       "1600            0.138365              0.20           0.138365   \n",
       "726             0.345912              0.25           0.345912   \n",
       "\n",
       "      customer service calls  all calls  \n",
       "306                 0.111111        129  \n",
       "832                 0.222222        122  \n",
       "1355                0.333333        110  \n",
       "1600                0.000000        138  \n",
       "726                 0.111111        105  "
      ]
     },
     "execution_count": 20,
     "metadata": {},
     "output_type": "execute_result"
    }
   ],
   "source": [
    "scale_vars = ['account length', \n",
    "              'number vmail messages', \n",
    "              'total day minutes', \n",
    "              'total day calls', \n",
    "              'total day charge', \n",
    "              'total eve minutes',  \n",
    "              'total eve calls', \n",
    "              'total eve charge',\n",
    "              'total night minutes',\n",
    "              'total night calls', \n",
    "              'total night charge',\n",
    "              'total intl minutes',\n",
    "              'total intl calls',\n",
    "              'total intl charge', \n",
    "              'customer service calls'\n",
    "             ]\n",
    "scaler = MinMaxScaler()\n",
    "X_train[scale_vars] = scaler.fit_transform(X_train[scale_vars])\n",
    "X_train.head()\n",
    "#scaling data to avoid big numbers"
   ]
  },
  {
   "cell_type": "code",
   "execution_count": 21,
   "metadata": {},
   "outputs": [],
   "source": [
    "ohe_division_X_test = X_test.iloc[:,:19] #ohe to encode categorical data to numerical"
   ]
  },
  {
   "cell_type": "code",
   "execution_count": 22,
   "metadata": {},
   "outputs": [],
   "source": [
    "X_test = ohe_division_X_test.apply(LabelEncoder().fit_transform) #applying this to test data"
   ]
  },
  {
   "cell_type": "code",
   "execution_count": 23,
   "metadata": {},
   "outputs": [
    {
     "data": {
      "text/html": [
       "<div>\n",
       "<style scoped>\n",
       "    .dataframe tbody tr th:only-of-type {\n",
       "        vertical-align: middle;\n",
       "    }\n",
       "\n",
       "    .dataframe tbody tr th {\n",
       "        vertical-align: top;\n",
       "    }\n",
       "\n",
       "    .dataframe thead th {\n",
       "        text-align: right;\n",
       "    }\n",
       "</style>\n",
       "<table border=\"1\" class=\"dataframe\">\n",
       "  <thead>\n",
       "    <tr style=\"text-align: right;\">\n",
       "      <th></th>\n",
       "      <th>account length</th>\n",
       "      <th>international plan</th>\n",
       "      <th>voice mail plan</th>\n",
       "      <th>number vmail messages</th>\n",
       "      <th>total day minutes</th>\n",
       "      <th>total day calls</th>\n",
       "      <th>total day charge</th>\n",
       "      <th>total eve minutes</th>\n",
       "      <th>total eve calls</th>\n",
       "      <th>total eve charge</th>\n",
       "      <th>total night minutes</th>\n",
       "      <th>total night calls</th>\n",
       "      <th>total night charge</th>\n",
       "      <th>total intl minutes</th>\n",
       "      <th>total intl calls</th>\n",
       "      <th>total intl charge</th>\n",
       "      <th>customer service calls</th>\n",
       "      <th>all calls</th>\n",
       "    </tr>\n",
       "  </thead>\n",
       "  <tbody>\n",
       "    <tr>\n",
       "      <th>764</th>\n",
       "      <td>0.600000</td>\n",
       "      <td>0</td>\n",
       "      <td>1</td>\n",
       "      <td>0.513514</td>\n",
       "      <td>0.318966</td>\n",
       "      <td>0.309278</td>\n",
       "      <td>0.318966</td>\n",
       "      <td>0.640794</td>\n",
       "      <td>0.452830</td>\n",
       "      <td>0.632075</td>\n",
       "      <td>0.741410</td>\n",
       "      <td>0.226804</td>\n",
       "      <td>0.738462</td>\n",
       "      <td>0.609375</td>\n",
       "      <td>0.2500</td>\n",
       "      <td>0.609375</td>\n",
       "      <td>0.000000</td>\n",
       "      <td>30</td>\n",
       "    </tr>\n",
       "    <tr>\n",
       "      <th>2231</th>\n",
       "      <td>0.282353</td>\n",
       "      <td>0</td>\n",
       "      <td>1</td>\n",
       "      <td>0.567568</td>\n",
       "      <td>0.048276</td>\n",
       "      <td>0.525773</td>\n",
       "      <td>0.048276</td>\n",
       "      <td>0.041516</td>\n",
       "      <td>0.433962</td>\n",
       "      <td>0.043396</td>\n",
       "      <td>0.291139</td>\n",
       "      <td>0.546392</td>\n",
       "      <td>0.320879</td>\n",
       "      <td>0.273438</td>\n",
       "      <td>0.5625</td>\n",
       "      <td>0.273438</td>\n",
       "      <td>0.428571</td>\n",
       "      <td>79</td>\n",
       "    </tr>\n",
       "    <tr>\n",
       "      <th>873</th>\n",
       "      <td>0.823529</td>\n",
       "      <td>0</td>\n",
       "      <td>0</td>\n",
       "      <td>0.000000</td>\n",
       "      <td>0.406897</td>\n",
       "      <td>0.577320</td>\n",
       "      <td>0.406897</td>\n",
       "      <td>0.740072</td>\n",
       "      <td>0.650943</td>\n",
       "      <td>0.735849</td>\n",
       "      <td>0.987342</td>\n",
       "      <td>0.237113</td>\n",
       "      <td>0.984615</td>\n",
       "      <td>0.445312</td>\n",
       "      <td>0.0625</td>\n",
       "      <td>0.445312</td>\n",
       "      <td>0.142857</td>\n",
       "      <td>77</td>\n",
       "    </tr>\n",
       "    <tr>\n",
       "      <th>3022</th>\n",
       "      <td>0.617647</td>\n",
       "      <td>0</td>\n",
       "      <td>1</td>\n",
       "      <td>0.567568</td>\n",
       "      <td>0.284483</td>\n",
       "      <td>0.350515</td>\n",
       "      <td>0.284483</td>\n",
       "      <td>0.059567</td>\n",
       "      <td>0.113208</td>\n",
       "      <td>0.062264</td>\n",
       "      <td>0.652803</td>\n",
       "      <td>0.463918</td>\n",
       "      <td>0.652747</td>\n",
       "      <td>0.023438</td>\n",
       "      <td>0.4375</td>\n",
       "      <td>0.023438</td>\n",
       "      <td>0.000000</td>\n",
       "      <td>20</td>\n",
       "    </tr>\n",
       "    <tr>\n",
       "      <th>1363</th>\n",
       "      <td>0.582353</td>\n",
       "      <td>0</td>\n",
       "      <td>1</td>\n",
       "      <td>0.513514</td>\n",
       "      <td>0.082759</td>\n",
       "      <td>0.639175</td>\n",
       "      <td>0.082759</td>\n",
       "      <td>0.754513</td>\n",
       "      <td>0.726415</td>\n",
       "      <td>0.750943</td>\n",
       "      <td>0.909584</td>\n",
       "      <td>0.515464</td>\n",
       "      <td>0.896703</td>\n",
       "      <td>0.320312</td>\n",
       "      <td>0.3750</td>\n",
       "      <td>0.320312</td>\n",
       "      <td>0.428571</td>\n",
       "      <td>118</td>\n",
       "    </tr>\n",
       "  </tbody>\n",
       "</table>\n",
       "</div>"
      ],
      "text/plain": [
       "      account length  international plan  voice mail plan  \\\n",
       "764         0.600000                   0                1   \n",
       "2231        0.282353                   0                1   \n",
       "873         0.823529                   0                0   \n",
       "3022        0.617647                   0                1   \n",
       "1363        0.582353                   0                1   \n",
       "\n",
       "      number vmail messages  total day minutes  total day calls  \\\n",
       "764                0.513514           0.318966         0.309278   \n",
       "2231               0.567568           0.048276         0.525773   \n",
       "873                0.000000           0.406897         0.577320   \n",
       "3022               0.567568           0.284483         0.350515   \n",
       "1363               0.513514           0.082759         0.639175   \n",
       "\n",
       "      total day charge  total eve minutes  total eve calls  total eve charge  \\\n",
       "764           0.318966           0.640794         0.452830          0.632075   \n",
       "2231          0.048276           0.041516         0.433962          0.043396   \n",
       "873           0.406897           0.740072         0.650943          0.735849   \n",
       "3022          0.284483           0.059567         0.113208          0.062264   \n",
       "1363          0.082759           0.754513         0.726415          0.750943   \n",
       "\n",
       "      total night minutes  total night calls  total night charge  \\\n",
       "764              0.741410           0.226804            0.738462   \n",
       "2231             0.291139           0.546392            0.320879   \n",
       "873              0.987342           0.237113            0.984615   \n",
       "3022             0.652803           0.463918            0.652747   \n",
       "1363             0.909584           0.515464            0.896703   \n",
       "\n",
       "      total intl minutes  total intl calls  total intl charge  \\\n",
       "764             0.609375            0.2500           0.609375   \n",
       "2231            0.273438            0.5625           0.273438   \n",
       "873             0.445312            0.0625           0.445312   \n",
       "3022            0.023438            0.4375           0.023438   \n",
       "1363            0.320312            0.3750           0.320312   \n",
       "\n",
       "      customer service calls  all calls  \n",
       "764                 0.000000         30  \n",
       "2231                0.428571         79  \n",
       "873                 0.142857         77  \n",
       "3022                0.000000         20  \n",
       "1363                0.428571        118  "
      ]
     },
     "execution_count": 23,
     "metadata": {},
     "output_type": "execute_result"
    }
   ],
   "source": [
    "scale_vars = ['account length', \n",
    "              'number vmail messages', \n",
    "              'total day minutes', \n",
    "              'total day calls', \n",
    "              'total day charge', \n",
    "              'total eve minutes',  \n",
    "              'total eve calls', \n",
    "              'total eve charge',\n",
    "              'total night minutes',\n",
    "              'total night calls', \n",
    "              'total night charge',\n",
    "              'total intl minutes',\n",
    "              'total intl calls',\n",
    "              'total intl charge', \n",
    "              'customer service calls'\n",
    "             ]\n",
    "scaler = MinMaxScaler()\n",
    "X_test[scale_vars] = scaler.fit_transform(X_test[scale_vars])\n",
    "X_test.head()\n",
    "#scaling test data to avoid big numbers"
   ]
  },
  {
   "cell_type": "markdown",
   "metadata": {},
   "source": [
    "#### Decision Tree"
   ]
  },
  {
   "cell_type": "code",
   "execution_count": 24,
   "metadata": {},
   "outputs": [
    {
     "data": {
      "text/plain": [
       "DecisionTreeClassifier(criterion='entropy', max_depth=6, random_state=1)"
      ]
     },
     "execution_count": 24,
     "metadata": {},
     "output_type": "execute_result"
    }
   ],
   "source": [
    "#decision tree \n",
    "dec_tree = DecisionTreeClassifier(criterion='entropy', \n",
    "                                  max_depth=6, \n",
    "                                  random_state=1)\n",
    "dec_tree.fit(X_train, y_train)\n"
   ]
  },
  {
   "cell_type": "code",
   "execution_count": 25,
   "metadata": {},
   "outputs": [
    {
     "name": "stdout",
     "output_type": "stream",
     "text": [
      "[[523  47]\n",
      " [ 23  74]]\n",
      "              precision    recall  f1-score   support\n",
      "\n",
      "           0       0.96      0.92      0.94       570\n",
      "           1       0.61      0.76      0.68        97\n",
      "\n",
      "    accuracy                           0.90       667\n",
      "   macro avg       0.78      0.84      0.81       667\n",
      "weighted avg       0.91      0.90      0.90       667\n",
      "\n"
     ]
    }
   ],
   "source": [
    "#looking at values from confusion matrix\n",
    "print(confusion_matrix(y_test, dec_tree.predict(X_test)))\n",
    "print(classification_report(y_test, dec_tree.predict(X_test)))"
   ]
  },
  {
   "cell_type": "markdown",
   "metadata": {},
   "source": [
    "Our first decision tree model gave us a recall of 76%, which means that our model is 76 % accurate in correctly identifying true positives.   "
   ]
  },
  {
   "cell_type": "markdown",
   "metadata": {},
   "source": [
    "#### Random Forest"
   ]
  },
  {
   "cell_type": "code",
   "execution_count": 26,
   "metadata": {},
   "outputs": [],
   "source": [
    "#ensemble method \n",
    "rf = RandomForestClassifier(n_estimators=100, criterion='entropy')\n",
    "rf.fit(X_train, y_train)\n",
    "prediction_test = rf.predict(X=X_test)"
   ]
  },
  {
   "cell_type": "code",
   "execution_count": 27,
   "metadata": {},
   "outputs": [
    {
     "name": "stdout",
     "output_type": "stream",
     "text": [
      "[[530  40]\n",
      " [ 20  77]]\n",
      "              precision    recall  f1-score   support\n",
      "\n",
      "           0       0.96      0.93      0.95       570\n",
      "           1       0.66      0.79      0.72        97\n",
      "\n",
      "    accuracy                           0.91       667\n",
      "   macro avg       0.81      0.86      0.83       667\n",
      "weighted avg       0.92      0.91      0.91       667\n",
      "\n"
     ]
    }
   ],
   "source": [
    "print(confusion_matrix(y_test, rf.predict(X_test)))\n",
    "print(classification_report(y_test, rf.predict(X_test)))"
   ]
  },
  {
   "cell_type": "markdown",
   "metadata": {},
   "source": [
    "An 81% recall (true positives) using Random forest"
   ]
  },
  {
   "cell_type": "markdown",
   "metadata": {},
   "source": [
    "#### Random Forest with GridSearch"
   ]
  },
  {
   "cell_type": "code",
   "execution_count": 28,
   "metadata": {},
   "outputs": [],
   "source": [
    "#hyperparameter tuning to get the best values\n",
    "# GridSearchCV goes through, every parameter we provide and finds the \n",
    "# best combination that give the best accuracy.\n",
    "rf = RandomForestClassifier(random_state=101)\n",
    "\n",
    "params = {\n",
    "    'max_features': [1, 'sqrt', 'log2'],\n",
    "    'max_depth': [None, 1, 2, 3, 4, 5],\n",
    "    'criterion': ['entropy', 'gini']\n",
    "}\n",
    "\n",
    "grid = GridSearchCV(estimator= rf, param_grid=params, verbose=1)"
   ]
  },
  {
   "cell_type": "code",
   "execution_count": 29,
   "metadata": {},
   "outputs": [
    {
     "name": "stdout",
     "output_type": "stream",
     "text": [
      "Fitting 5 folds for each of 36 candidates, totalling 180 fits\n"
     ]
    },
    {
     "data": {
      "text/plain": [
       "GridSearchCV(estimator=RandomForestClassifier(random_state=101),\n",
       "             param_grid={'criterion': ['entropy', 'gini'],\n",
       "                         'max_depth': [None, 1, 2, 3, 4, 5],\n",
       "                         'max_features': [1, 'sqrt', 'log2']},\n",
       "             verbose=1)"
      ]
     },
     "execution_count": 29,
     "metadata": {},
     "output_type": "execute_result"
    }
   ],
   "source": [
    "grid.fit(X_train, y_train)"
   ]
  },
  {
   "cell_type": "code",
   "execution_count": 30,
   "metadata": {},
   "outputs": [
    {
     "data": {
      "text/plain": [
       "{'criterion': 'entropy', 'max_depth': None, 'max_features': 'sqrt'}"
      ]
     },
     "execution_count": 30,
     "metadata": {},
     "output_type": "execute_result"
    }
   ],
   "source": [
    "grid.best_params_"
   ]
  },
  {
   "cell_type": "code",
   "execution_count": 31,
   "metadata": {},
   "outputs": [],
   "source": [
    "rf_best = grid.best_estimator_\n"
   ]
  },
  {
   "cell_type": "code",
   "execution_count": 32,
   "metadata": {},
   "outputs": [
    {
     "name": "stdout",
     "output_type": "stream",
     "text": [
      "[[533  37]\n",
      " [ 21  76]]\n",
      "              precision    recall  f1-score   support\n",
      "\n",
      "           0       0.96      0.94      0.95       570\n",
      "           1       0.67      0.78      0.72        97\n",
      "\n",
      "    accuracy                           0.91       667\n",
      "   macro avg       0.82      0.86      0.84       667\n",
      "weighted avg       0.92      0.91      0.92       667\n",
      "\n"
     ]
    }
   ],
   "source": [
    "print(confusion_matrix(y_test, rf_best.predict(X_test)))\n",
    "print(classification_report(y_test, rf_best.predict(X_test)))"
   ]
  },
  {
   "cell_type": "markdown",
   "metadata": {},
   "source": [
    "We got a 78% recall for the first rf model, and an accuracy of 91%"
   ]
  },
  {
   "cell_type": "markdown",
   "metadata": {},
   "source": [
    "#### DT w/SMOTE"
   ]
  },
  {
   "cell_type": "code",
   "execution_count": 33,
   "metadata": {},
   "outputs": [
    {
     "name": "stdout",
     "output_type": "stream",
     "text": [
      "X shape:  (2666, 18)\n",
      "y shape:  (2666,)\n"
     ]
    }
   ],
   "source": [
    "X = X_train  # features\n",
    "y = y_train  # churn\n",
    "print('X shape:  {}'.format(np.shape(X)))\n",
    "print('y shape:  {}'.format(np.shape(y)))\n"
   ]
  },
  {
   "cell_type": "code",
   "execution_count": 34,
   "metadata": {},
   "outputs": [
    {
     "name": "stdout",
     "output_type": "stream",
     "text": [
      "X_train_smote shape:  (4560, 18)\n",
      "y_train_smote shape:  (4560,)\n"
     ]
    }
   ],
   "source": [
    "smote = SMOTE(random_state=12)\n",
    "\n",
    "X_train_smote, y_train_smote = smote.fit_resample(X, y)\n",
    "\n",
    "print(f'X_train_smote shape:  {X_train_smote.shape}')\n",
    "print(f'y_train_smote shape:  {y_train_smote.shape}')"
   ]
  },
  {
   "cell_type": "code",
   "execution_count": 35,
   "metadata": {},
   "outputs": [
    {
     "data": {
      "text/plain": [
       "DecisionTreeClassifier(criterion='entropy', max_depth=6, random_state=1)"
      ]
     },
     "execution_count": 35,
     "metadata": {},
     "output_type": "execute_result"
    }
   ],
   "source": [
    "dec_tree_smote = DecisionTreeClassifier(criterion='entropy', \n",
    "                                        max_depth=6, \n",
    "                                        random_state=1)\n",
    "dec_tree_smote.fit(X_train_smote, y_train_smote)"
   ]
  },
  {
   "cell_type": "code",
   "execution_count": 36,
   "metadata": {},
   "outputs": [
    {
     "name": "stdout",
     "output_type": "stream",
     "text": [
      "[[293 277]\n",
      " [ 12  85]]\n",
      "              precision    recall  f1-score   support\n",
      "\n",
      "           0       0.96      0.51      0.67       570\n",
      "           1       0.23      0.88      0.37        97\n",
      "\n",
      "    accuracy                           0.57       667\n",
      "   macro avg       0.60      0.70      0.52       667\n",
      "weighted avg       0.86      0.57      0.63       667\n",
      "\n"
     ]
    }
   ],
   "source": [
    "print(confusion_matrix(y_test, dec_tree_smote.predict(X_test)))\n",
    "print(classification_report(y_test, dec_tree_smote.predict(X_test)))"
   ]
  },
  {
   "cell_type": "markdown",
   "metadata": {},
   "source": [
    "Our recall (true positives) increased to 88% by using SMOTE."
   ]
  },
  {
   "cell_type": "markdown",
   "metadata": {},
   "source": [
    "#### RF w/SMOTE"
   ]
  },
  {
   "cell_type": "code",
   "execution_count": 37,
   "metadata": {},
   "outputs": [],
   "source": [
    "rf_grid = GridSearchCV(estimator= RandomForestClassifier(),\n",
    "                       param_grid=params, scoring='recall')\n",
    "# i am using gridsearch along with smote to reduce class imbalance\n",
    "# SMOTE duplicates those minority features to ensure theres a balance"
   ]
  },
  {
   "cell_type": "code",
   "execution_count": 38,
   "metadata": {},
   "outputs": [
    {
     "data": {
      "text/plain": [
       "GridSearchCV(estimator=RandomForestClassifier(),\n",
       "             param_grid={'criterion': ['entropy', 'gini'],\n",
       "                         'max_depth': [None, 1, 2, 3, 4, 5],\n",
       "                         'max_features': [1, 'sqrt', 'log2']},\n",
       "             scoring='recall')"
      ]
     },
     "execution_count": 38,
     "metadata": {},
     "output_type": "execute_result"
    }
   ],
   "source": [
    "rf_grid.fit(X_train_smote, y_train_smote)\n"
   ]
  },
  {
   "cell_type": "code",
   "execution_count": 39,
   "metadata": {},
   "outputs": [
    {
     "data": {
      "text/plain": [
       "{'criterion': 'entropy', 'max_depth': None, 'max_features': 'log2'}"
      ]
     },
     "execution_count": 39,
     "metadata": {},
     "output_type": "execute_result"
    }
   ],
   "source": [
    "rf_grid.best_params_"
   ]
  },
  {
   "cell_type": "code",
   "execution_count": 40,
   "metadata": {},
   "outputs": [
    {
     "name": "stdout",
     "output_type": "stream",
     "text": [
      "[[413 157]\n",
      " [ 20  77]]\n",
      "              precision    recall  f1-score   support\n",
      "\n",
      "           0       0.95      0.72      0.82       570\n",
      "           1       0.33      0.79      0.47        97\n",
      "\n",
      "    accuracy                           0.73       667\n",
      "   macro avg       0.64      0.76      0.64       667\n",
      "weighted avg       0.86      0.73      0.77       667\n",
      "\n"
     ]
    }
   ],
   "source": [
    "print(confusion_matrix(y_test, rf_grid.predict(X_test)))\n",
    "print(classification_report(y_test, rf_grid.predict(X_test)))"
   ]
  },
  {
   "cell_type": "markdown",
   "metadata": {},
   "source": [
    "We got a better recall with the decision tree using smote, and about the same with random forest."
   ]
  },
  {
   "cell_type": "markdown",
   "metadata": {},
   "source": [
    "#### Final Model"
   ]
  },
  {
   "cell_type": "code",
   "execution_count": 41,
   "metadata": {},
   "outputs": [
    {
     "name": "stdout",
     "output_type": "stream",
     "text": [
      "Importance of feature account length:, 0.005\n",
      "Importance of feature international plan:, 0.049\n",
      "Importance of feature voice mail plan:, 0.069\n",
      "Importance of feature number vmail messages:, 0.002\n",
      "Importance of feature total day minutes:, 0.204\n",
      "Importance of feature total day calls:, 0.008\n",
      "Importance of feature total day charge:, 0.012\n",
      "Importance of feature total eve minutes:, 0.058\n",
      "Importance of feature total eve calls:, 0.000\n",
      "Importance of feature total eve charge:, 0.002\n",
      "Importance of feature total night minutes:, 0.031\n",
      "Importance of feature total night calls:, 0.003\n",
      "Importance of feature total night charge:, 0.000\n",
      "Importance of feature total intl minutes:, 0.034\n",
      "Importance of feature total intl calls:, 0.037\n",
      "Importance of feature total intl charge:, 0.004\n",
      "Importance of feature customer service calls:, 0.474\n",
      "Importance of feature all calls:, 0.010\n"
     ]
    }
   ],
   "source": [
    "for i, column in enumerate(X_train_smote):\n",
    "    print('Importance of feature {}:, {:.3f}'\n",
    "          .format(column, dec_tree_smote.feature_importances_[i]))\n",
    "    \n",
    "    fi = pd.DataFrame({'Variable': [column],\n",
    "                       'Feature Importance Score': \n",
    "                       [dec_tree_smote.feature_importances_[i]]})\n",
    "    \n",
    "    try:\n",
    "        final_fi = pd.concat([final_fi, fi], ignore_index=True)\n",
    "    except:\n",
    "        final_fi = fi\n",
    "        #calculating fi with our best model"
   ]
  },
  {
   "cell_type": "code",
   "execution_count": 42,
   "metadata": {},
   "outputs": [
    {
     "data": {
      "image/png": "[encoded data removed]",
      "text/plain": [
       "<Figure size 432x288 with 1 Axes>"
      ]
     },
     "metadata": {
      "needs_background": "light"
     },
     "output_type": "display_data"
    }
   ],
   "source": [
    "# final fi to finalize project\n",
    "FI_df = pd.DataFrame(\n",
    "    list(zip(X_train_smote.columns, \n",
    "             dec_tree_smote.feature_importances_)),\n",
    "    columns=['Feature', 'Importance']\n",
    ")\n",
    "\n",
    "FI_df.sort_values('Importance', inplace=True, ascending=False)\n",
    "\n",
    "\n",
    "sns.barplot(x = 'Importance', y = 'Feature', data = FI_df, color = 'tab:blue').set_title('Individual Feature Importance')\n",
    "plt.savefig('Final Feature Importance')"
   ]
  },
  {
   "cell_type": "markdown",
   "metadata": {},
   "source": [
    "Based on our findings, customer service call is the main reason why customers churn. A recommendation in fixing this issue is training customer service employees to deal with customers problems more delicately, and use statistics from monitioring call in order to be able to deal with employees better. With total day minutes, and voice mail plan come in as the second and third reasons, we recommend for SyriaTel to work on a more affordable/reasonable costs for their plan in order to encourage customer retention. In addition, they should also work on offering different plans to serve each customer, more customer satisfaction = less customer service calls and less amount of people churning."
   ]
  },
  {
   "cell_type": "code",
   "execution_count": null,
   "metadata": {},
   "outputs": [],
   "source": []
  }
 ],
 "metadata": {
  "kernelspec": {
   "display_name": "Python 3",
   "language": "python",
   "name": "python3"
  },
  "language_info": {
   "codemirror_mode": {
    "name": "ipython",
    "version": 3
   },
   "file_extension": ".py",
   "mimetype": "text/x-python",
   "name": "python",
   "nbconvert_exporter": "python",
   "pygments_lexer": "ipython3",
   "version": "3.7.6"
  }
 },
 "nbformat": 4,
 "nbformat_minor": 4
}
